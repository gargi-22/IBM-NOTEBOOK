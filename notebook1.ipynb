{
 "cells": [
  {
   "cell_type": "markdown",
   "id": "363c7036",
   "metadata": {},
   "source": [
    "# My Jupyter Notebook on IBM Watson Studio\n"
   ]
  },
  {
   "cell_type": "markdown",
   "id": "6910bb0d",
   "metadata": {},
   "source": [
    "# Gargi Rane\n",
    "\n",
    "Desird Occupation:To be a Data Scientist"
   ]
  },
  {
   "cell_type": "markdown",
   "id": "b8533a5d",
   "metadata": {},
   "source": [
    "_I am interested in the  data Science because I have the huge interest in the field of the business intelligence. BI is having the huge impact on the way the businesses are done_"
   ]
  },
  {
   "cell_type": "markdown",
   "id": "7321c1ee",
   "metadata": {},
   "source": [
    "### Addition of integers"
   ]
  },
  {
   "cell_type": "code",
   "execution_count": 1,
   "id": "f8122112",
   "metadata": {},
   "outputs": [
    {
     "data": {
      "text/plain": [
       "21"
      ]
     },
     "execution_count": 1,
     "metadata": {},
     "output_type": "execute_result"
    }
   ],
   "source": [
    "def addition(x,y):\n",
    "    return (x+y)\n",
    "addition(10,11)"
   ]
  },
  {
   "cell_type": "markdown",
   "id": "9f00bffc",
   "metadata": {},
   "source": [
    "### ordered list\n",
    "\n",
    "1. item one\n",
    "1. item two\n",
    "1. item three\n",
    "\n",
    "### Unordered list\n",
    "\n",
    "* item one\n",
    "* item two\n",
    "* item three\n",
    "\n",
    "### BlockQuotes\n",
    "\n",
    "> He is greatest player of the all time. The world champion himself **Lionel Messi**.Most decorated player of all time.\n",
    "\n",
    "\n",
    "### Image \n",
    "\n",
    "![image of the Greatest Player Of All Time]( https://encrypted-tbn0.gstatic.com/images?q=tbn:ANd9GcRZJTWFOFFUkIpDayzRnucv1fiVOspYwfLOft06HY4Gaw&s)"
   ]
  },
  {
   "cell_type": "code",
   "execution_count": null,
   "id": "0de71edf",
   "metadata": {},
   "outputs": [],
   "source": []
  }
 ],
 "metadata": {
  "kernelspec": {
   "display_name": "Python 3",
   "language": "python",
   "name": "python3"
  },
  "language_info": {
   "codemirror_mode": {
    "name": "ipython",
    "version": 3
   },
   "file_extension": ".py",
   "mimetype": "text/x-python",
   "name": "python",
   "nbconvert_exporter": "python",
   "pygments_lexer": "ipython3",
   "version": "3.8.8"
  }
 },
 "nbformat": 4,
 "nbformat_minor": 5
}
